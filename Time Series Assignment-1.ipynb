{
 "cells": [
  {
   "cell_type": "code",
   "execution_count": null,
   "id": "3f1afcc4-32ec-4c56-840f-ec63074220e3",
   "metadata": {},
   "outputs": [],
   "source": [
    "1. \n",
    "A time series is a sequence of data points collected or recorded over time, typically at regular intervals. Common applications include financial market analysis, weather forecasting, stock price prediction, and economic trend analysis.\n",
    "\n",
    "2. \n",
    "Common time series patterns include trend, seasonality, and noise. Trends show the overall direction of the data, seasonality reflects recurring patterns, and noise represents random fluctuations. Identifying and interpreting these patterns involve visual inspection, statistical methods, and domain knowledge.\n",
    "\n",
    "3. \n",
    "Time series data can be preprocessed by handling missing values, smoothing outliers, and transforming the data to stabilize variance. Additionally, detrending and deseasonalizing may be applied to focus on underlying patterns.\n",
    "\n",
    "4. \n",
    "Time series forecasting in business helps predict future trends, enabling informed decision-making. Challenges include dealing with complex patterns, incorporating external factors, and the inherent uncertainty of future events.\n",
    "\n",
    "5. \n",
    "ARIMA (AutoRegressive Integrated Moving Average) is a popular time series forecasting model. It combines autoregression, differencing, and moving averages to capture different aspects of the data's patterns.\n",
    "\n",
    "6. \n",
    "ACF and PACF plots help identify the order of ARIMA models by showing correlations between a time series and its lagged values. ACF helps identify the order of the moving average component, while PACF helps identify the autoregressive component.\n",
    "\n",
    "7. \n",
    "Assumptions of ARIMA models include stationarity, independence of residuals, and normality of residuals. Stationarity can be tested using plots and statistical tests, while residual analysis checks for independence and normality.\n",
    "\n",
    "8. \n",
    "For monthly sales data, I would recommend a Seasonal ARIMA (SARIMA) model. It can capture both seasonality and trends in the data, providing a robust forecast for future sales.\n",
    "\n",
    "9. \n",
    "Limitations of time series analysis include the inability to predict sudden and unexpected events (e.g., natural disasters) and the sensitivity to the quality and completeness of historical data. For example, predicting stock market changes during a sudden economic crisis may be challenging.\n",
    "\n",
    "10. \n",
    "A stationary time series has constant mean and variance over time, making it easier to model. Non-stationary series exhibit trends or seasonality. Stationary series are preferable for modeling as they simplify the forecasting process and assumptions of many models. Transformations may be applied to make a non-stationary series stationary before modeling.\n",
    "\n",
    "\n",
    "\n",
    "\n",
    "\n"
   ]
  }
 ],
 "metadata": {
  "kernelspec": {
   "display_name": "Python 3 (ipykernel)",
   "language": "python",
   "name": "python3"
  },
  "language_info": {
   "codemirror_mode": {
    "name": "ipython",
    "version": 3
   },
   "file_extension": ".py",
   "mimetype": "text/x-python",
   "name": "python",
   "nbconvert_exporter": "python",
   "pygments_lexer": "ipython3",
   "version": "3.10.8"
  }
 },
 "nbformat": 4,
 "nbformat_minor": 5
}
